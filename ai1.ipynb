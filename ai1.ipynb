{
 "cells": [
  {
   "cell_type": "code",
   "execution_count": 2,
   "id": "285ed27a-a999-4ae6-91d6-7a647b22df85",
   "metadata": {},
   "outputs": [],
   "source": [
    "#question 1\n",
    "import numpy as np\n",
    "import pandas as pd"
   ]
  },
  {
   "cell_type": "code",
   "execution_count": 3,
   "id": "446a7172-68b0-4d4e-8376-9f5ef8c52580",
   "metadata": {},
   "outputs": [],
   "source": [
    "arr=np.array([1,7,13,105])"
   ]
  },
  {
   "cell_type": "code",
   "execution_count": 4,
   "id": "5f83c9b4-71f8-4731-ad43-29f3d77a4bba",
   "metadata": {},
   "outputs": [
    {
     "name": "stdout",
     "output_type": "stream",
     "text": [
      "[  1   7  13 105]\n"
     ]
    }
   ],
   "source": [
    "print(arr)"
   ]
  },
  {
   "cell_type": "code",
   "execution_count": 5,
   "id": "2041b826-50b6-4646-8566-007c4faf5861",
   "metadata": {},
   "outputs": [
    {
     "name": "stdout",
     "output_type": "stream",
     "text": [
      "size of array is 4\n"
     ]
    }
   ],
   "source": [
    "print(f'size of array is {arr.size}')"
   ]
  },
  {
   "cell_type": "code",
   "execution_count": 6,
   "id": "8a7244f3-4298-4de7-a96b-6cdc9eb53071",
   "metadata": {},
   "outputs": [
    {
     "name": "stdout",
     "output_type": "stream",
     "text": [
      "Comparison - greater\n",
      "[ True False]\n",
      "Comparison - less\n",
      "[False False]\n",
      "Comparison - less_equal\n",
      "[False  True]\n"
     ]
    }
   ],
   "source": [
    "#question 2\n",
    "x = np.array([3, 5])\n",
    "y = np.array([2, 5])\n",
    "print(\"Comparison - greater\")\n",
    "print(np.greater(x, y))\n",
    "print(\"Comparison - less\")\n",
    "print(np.less(x, y))\n",
    "print(\"Comparison - less_equal\")\n",
    "print(np.less_equal(x, y)) "
   ]
  },
  {
   "cell_type": "code",
   "execution_count": 7,
   "id": "51644069-b06b-46f8-9bcb-b0cb9f33ccf4",
   "metadata": {},
   "outputs": [],
   "source": [
    "#question 3\n",
    "arr1=np.zeros(10)\n",
    "arr2=np.ones(10)\n",
    "arr3=arr2*5\n",
    "arr4=arr2*10\n"
   ]
  },
  {
   "cell_type": "code",
   "execution_count": 8,
   "id": "2b4f420f-d639-496f-8a70-a99197e49a78",
   "metadata": {},
   "outputs": [
    {
     "name": "stdout",
     "output_type": "stream",
     "text": [
      "[0. 0. 0. 0. 0. 0. 0. 0. 0. 0.]\n",
      "[1. 1. 1. 1. 1. 1. 1. 1. 1. 1.]\n",
      "[5. 5. 5. 5. 5. 5. 5. 5. 5. 5.]\n",
      "[10. 10. 10. 10. 10. 10. 10. 10. 10. 10.]\n"
     ]
    }
   ],
   "source": [
    "print(arr1)\n",
    "print(arr2)\n",
    "print(arr3)\n",
    "print(arr4)"
   ]
  },
  {
   "cell_type": "code",
   "execution_count": 9,
   "id": "8546b721-66ad-4a50-b829-91f17a44e6ae",
   "metadata": {},
   "outputs": [],
   "source": [
    "arr5=arr4*5\n",
    "arr6=arr4*2"
   ]
  },
  {
   "cell_type": "code",
   "execution_count": 10,
   "id": "4b28aad7-5f99-4df4-b59d-f10982dda173",
   "metadata": {},
   "outputs": [
    {
     "name": "stdout",
     "output_type": "stream",
     "text": [
      "[50. 50. 50. 50. 50. 50. 50. 50. 50. 50.]\n",
      "[20. 20. 20. 20. 20. 20. 20. 20. 20. 20.]\n"
     ]
    }
   ],
   "source": [
    "print(arr5)\n",
    "print(arr6)"
   ]
  },
  {
   "cell_type": "code",
   "execution_count": 11,
   "id": "e122adff-0906-4460-a753-1b48ef002ec6",
   "metadata": {},
   "outputs": [
    {
     "name": "stdout",
     "output_type": "stream",
     "text": [
      "[30 31 32 33 34 35 36 37 38 39 40 41 42 43 44 45 46 47 48 49 50 51 52 53\n",
      " 54 55 56 57 58 59 60 61 62 63 64 65 66 67 68 69]\n"
     ]
    }
   ],
   "source": [
    "#question4 \n",
    "arr7=np.arange(30,70)\n",
    "print(arr7)"
   ]
  },
  {
   "cell_type": "code",
   "execution_count": 12,
   "id": "69edaaff-d325-4f73-a20e-e1e1c199e7cd",
   "metadata": {},
   "outputs": [
    {
     "name": "stdout",
     "output_type": "stream",
     "text": [
      "[50 51 52 53 54 55 56 57 58 59 60 61 62 63 64 65 66 67 68 69 70 71 72 73\n",
      " 74 75 76 77 78 79 80 81 82 83 84 85 86 87 88 89 90 91 92 93 94]\n"
     ]
    }
   ],
   "source": [
    "#question5\n",
    "arr8=np.arange(50,95)\n",
    "print(arr8)"
   ]
  },
  {
   "cell_type": "code",
   "execution_count": 13,
   "id": "5c03a50e-57b0-4f36-984d-c62a443876ea",
   "metadata": {},
   "outputs": [
    {
     "name": "stdout",
     "output_type": "stream",
     "text": [
      "[20 22 24 26 28 30 32 34 36 38 40 42 44 46 48 50 52 54 56 58 60 62 64 66\n",
      " 68 70 72 74 76 78]\n",
      "[21 23 25 27 29 31 33 35 37 39 41 43 45 47 49 51 53 55 57 59 61 63 65 67\n",
      " 69 71 73 75 77 79]\n"
     ]
    }
   ],
   "source": [
    "#ques6\n",
    "arr9=np.arange(20,80,2)\n",
    "arr10=np.arange(21,80,2)\n",
    "print(arr9)\n",
    "print(arr10)"
   ]
  },
  {
   "cell_type": "code",
   "execution_count": 14,
   "id": "5e6400d9-e4da-4e9c-b8b1-07b3e28bc243",
   "metadata": {},
   "outputs": [
    {
     "name": "stdout",
     "output_type": "stream",
     "text": [
      "[24 18 16 32 31 21 24 30 13 35 34 13 16 33 23]\n"
     ]
    }
   ],
   "source": [
    "#ques8\n",
    "arr11=np.random.randint(10,40,15)\n",
    "print(arr11)"
   ]
  },
  {
   "cell_type": "code",
   "execution_count": 15,
   "id": "d2b4200f-a8e3-4cf8-90c6-2e08f5dd1ac4",
   "metadata": {},
   "outputs": [
    {
     "name": "stdout",
     "output_type": "stream",
     "text": [
      "[35 36 35 48 42 43 38 30 33 34]\n"
     ]
    }
   ],
   "source": [
    "#ques9\n",
    "arr12=np.random.randint(30,50,10)\n",
    "print(arr12)"
   ]
  },
  {
   "cell_type": "code",
   "execution_count": 16,
   "id": "f2bea37f-88f7-4a7c-a17b-e298b7789456",
   "metadata": {},
   "outputs": [
    {
     "name": "stdout",
     "output_type": "stream",
     "text": [
      "[71 66 87 82 61 73 64 74 88 61 70 83 71 84 52 62 63 80 66 86]\n"
     ]
    }
   ],
   "source": [
    "#ques10\n",
    "arr13=np.random.randint(50,90,20)\n",
    "print(arr13)"
   ]
  },
  {
   "cell_type": "code",
   "execution_count": 17,
   "id": "6aa417cb-cce4-40cb-8e8c-840ad43ff0ef",
   "metadata": {},
   "outputs": [
    {
     "name": "stdout",
     "output_type": "stream",
     "text": [
      "[ 60  80 100 120]\n",
      "[40 40 40 40]\n",
      "[ 500 1200 2100 3200]\n"
     ]
    }
   ],
   "source": [
    "#ques11\n",
    "arr14=np.array([10,20,30,40])\n",
    "arr15=np.array([50,60,70,80])\n",
    "arr16=arr14+arr15\n",
    "arr17=arr15-arr14\n",
    "arr18=arr14*arr15\n",
    "print(arr16)\n",
    "print(arr17)\n",
    "print(arr18)\n"
   ]
  },
  {
   "cell_type": "code",
   "execution_count": 18,
   "id": "b29eb538-da27-453e-a11e-b4f4d1ea06e2",
   "metadata": {},
   "outputs": [
    {
     "name": "stdout",
     "output_type": "stream",
     "text": [
      "[[10 11 12 13]\n",
      " [14 15 16 17]\n",
      " [18 19 20 21]]\n"
     ]
    }
   ],
   "source": [
    "#ques12\n",
    "m = np.arange(10, 22).reshape((3, 4))\n",
    "print(m)\n"
   ]
  },
  {
   "cell_type": "code",
   "execution_count": 19,
   "id": "e32b433a-4453-4006-81a1-0bb5d6ff4a33",
   "metadata": {},
   "outputs": [
    {
     "name": "stdout",
     "output_type": "stream",
     "text": [
      "[[1. 0. 0.]\n",
      " [0. 1. 0.]\n",
      " [0. 0. 1.]]\n"
     ]
    }
   ],
   "source": [
    "#ques 13\n",
    "m=np.identity(3)\n",
    "print(m)"
   ]
  },
  {
   "cell_type": "code",
   "execution_count": 23,
   "id": "d1db0535-9d64-47f7-a000-c2daa40a6a43",
   "metadata": {},
   "outputs": [
    {
     "name": "stdout",
     "output_type": "stream",
     "text": [
      "[[10 11 12 13]\n",
      " [14 15 16 17]\n",
      " [18 19 20 21]]\n",
      "(3, 4)\n"
     ]
    }
   ],
   "source": [
    "#ques14\n",
    "import numpy as np\n",
    "arr=np.arange(10,22).reshape((3,4))\n",
    "print(arr)\n",
    "print(arr.shape)"
   ]
  },
  {
   "cell_type": "code",
   "execution_count": 24,
   "id": "555c495b-03f1-4b21-90f4-4260a2d24a18",
   "metadata": {},
   "outputs": [
    {
     "name": "stdout",
     "output_type": "stream",
     "text": [
      "[[1 0 0 0 0]\n",
      " [0 2 0 0 0]\n",
      " [0 0 3 0 0]\n",
      " [0 0 0 4 0]\n",
      " [0 0 0 0 5]]\n"
     ]
    }
   ],
   "source": [
    "#ques15\n",
    "x = np.diag([1, 2, 3, 4, 5])\n",
    "print(x)"
   ]
  },
  {
   "cell_type": "code",
   "execution_count": 26,
   "id": "f8b3ee52-92c1-46ef-a84f-fdb138da6600",
   "metadata": {},
   "outputs": [
    {
     "name": "stdout",
     "output_type": "stream",
     "text": [
      "[[[0.92182546 0.6690654  0.90785119]\n",
      "  [0.43171056 0.58006195 0.71588945]\n",
      "  [0.75464963 0.24371485 0.40847687]]\n",
      "\n",
      " [[0.6180868  0.11173271 0.94409301]\n",
      "  [0.57879859 0.83195303 0.29492445]\n",
      "  [0.83978785 0.25897524 0.19800341]]\n",
      "\n",
      " [[0.64870419 0.92214247 0.84766911]\n",
      "  [0.82360027 0.7029596  0.48574168]\n",
      "  [0.91635059 0.38515535 0.46829819]]]\n"
     ]
    }
   ],
   "source": [
    "#ques16\n",
    "x = np.random.random((3, 3, 3))\n",
    "print(x)"
   ]
  },
  {
   "cell_type": "code",
   "execution_count": 27,
   "id": "541d492c-7d37-4448-aef1-6e7ef44dc54a",
   "metadata": {},
   "outputs": [
    {
     "name": "stdout",
     "output_type": "stream",
     "text": [
      "[[[0.11828493 0.63546312 0.65358202 0.94638874]\n",
      "  [0.61347728 0.05079907 0.02732923 0.98635299]\n",
      "  [0.85123483 0.23103207 0.11408806 0.87085475]]\n",
      "\n",
      " [[0.4683455  0.97077596 0.18722532 0.7987144 ]\n",
      "  [0.28297697 0.80320719 0.21623248 0.46911686]\n",
      "  [0.78284232 0.88741381 0.2301455  0.48539744]]]\n"
     ]
    }
   ],
   "source": [
    "#ques17\n",
    "x = np.random.random((2, 3, 4))\n",
    "print(x)\n"
   ]
  },
  {
   "cell_type": "code",
   "execution_count": 29,
   "id": "54dcf5d6-ae31-4a26-b3c1-ced66380f302",
   "metadata": {},
   "outputs": [
    {
     "name": "stdout",
     "output_type": "stream",
     "text": [
      "[ 12.23  13.32 100.    36.32]\n"
     ]
    }
   ],
   "source": [
    "#ques18\n",
    "l = [12.23, 13.32, 100, 36.32]\n",
    "a = np.array(l)\n",
    "print(a)"
   ]
  },
  {
   "cell_type": "code",
   "execution_count": 30,
   "id": "fc6c0cb9-cf91-464e-aa66-47b99c3f10db",
   "metadata": {},
   "outputs": [
    {
     "name": "stdout",
     "output_type": "stream",
     "text": [
      "[[ 2  3  4]\n",
      " [ 5  6  7]\n",
      " [ 8  9 10]]\n"
     ]
    }
   ],
   "source": [
    "#ques19\n",
    "x = np.arange(2, 11).reshape(3, 3)\n",
    "print(x)"
   ]
  },
  {
   "cell_type": "code",
   "execution_count": 31,
   "id": "62097d91-0b0f-4100-ac2a-443ffb05955c",
   "metadata": {},
   "outputs": [
    {
     "name": "stdout",
     "output_type": "stream",
     "text": [
      "[12 13 14 15 16 17 18 19 20 21 22 23 24 25 26 27 28 29 30 31 32 33 34 35\n",
      " 36 37]\n"
     ]
    }
   ],
   "source": [
    "#ques20\n",
    "x = np.arange(12, 38)\n",
    "print(x)"
   ]
  },
  {
   "cell_type": "code",
   "execution_count": 33,
   "id": "00786507-8e22-4bc1-8a52-0cd11be0df82",
   "metadata": {},
   "outputs": [
    {
     "name": "stdout",
     "output_type": "stream",
     "text": [
      "[12 13 14 15 16 17 18 19 20 21 22 23 24 25 26 27 28 29 30 31 32 33 34 35\n",
      " 36 37]\n",
      "[37 36 35 34 33 32 31 30 29 28 27 26 25 24 23 22 21 20 19 18 17 16 15 14\n",
      " 13 12]\n"
     ]
    }
   ],
   "source": [
    "#ques21\n",
    "x = np.arange(12, 38)\n",
    "print(x)\n",
    "x = x[::-1]\n",
    "print(x)"
   ]
  },
  {
   "cell_type": "code",
   "execution_count": 42,
   "id": "5b8a21e1-be50-4439-a03d-2da3ee302972",
   "metadata": {},
   "outputs": [
    {
     "name": "stdout",
     "output_type": "stream",
     "text": [
      "[20. 21. 22. 23. 24. 25. 26. 27. 28. 29. 30. 31. 32. 33. 34. 35. 36. 37.\n",
      " 38. 39. 40. 41. 42. 43. 44. 45. 46. 47. 48. 49. 50.]\n"
     ]
    }
   ],
   "source": [
    "#ques22\n",
    "y = x.astype(float)\n",
    "print(y)"
   ]
  },
  {
   "cell_type": "code",
   "execution_count": 43,
   "id": "9949d03a-ac27-479a-8d78-557cf39de604",
   "metadata": {},
   "outputs": [
    {
     "name": "stdout",
     "output_type": "stream",
     "text": [
      "[1 7 0 6 2 5 6]\n"
     ]
    }
   ],
   "source": [
    "#ques23\n",
    "lst = [1, 7, 0, 6, 2, 5, 6]\n",
    "arr = np.array(lst)\n",
    "print(arr)"
   ]
  },
  {
   "cell_type": "code",
   "execution_count": 37,
   "id": "2a940dca-5496-4be4-9642-e064b4d578ff",
   "metadata": {},
   "outputs": [
    {
     "name": "stdout",
     "output_type": "stream",
     "text": [
      "[0 1 2 3 0 1 2]\n"
     ]
    }
   ],
   "source": [
    "#ques24\n",
    "x = np.arange(7)\n",
    "print(np.remainder(x, 4)) \n"
   ]
  },
  {
   "cell_type": "code",
   "execution_count": 41,
   "id": "6b5812a6-1e15-4a48-88a8-04059450bb12",
   "metadata": {},
   "outputs": [
    {
     "name": "stdout",
     "output_type": "stream",
     "text": [
      "[20 21 22 23 24 25 26 27 28 29 30 31 32 33 34 35 36 37 38 39 40 41 42 43\n",
      " 44 45 46 47 48 49 50]\n",
      "[2 0 1 2 0 1 2 0 1 2 0 1 2 0 1 2 0 1 2 0 1 2 0 1 2 0 1 2 0 1 2]\n"
     ]
    }
   ],
   "source": [
    "#ques25\n",
    "x=np.arange(20,51)\n",
    "print(x)\n",
    "print(np.remainder(x,3))\n",
    "\n",
    "\n"
   ]
  },
  {
   "cell_type": "code",
   "execution_count": null,
   "id": "4f3ee1f3-1cd5-4b41-81cc-bafa11f0dc33",
   "metadata": {},
   "outputs": [],
   "source": []
  }
 ],
 "metadata": {
  "kernelspec": {
   "display_name": "Python 3 (ipykernel)",
   "language": "python",
   "name": "python3"
  },
  "language_info": {
   "codemirror_mode": {
    "name": "ipython",
    "version": 3
   },
   "file_extension": ".py",
   "mimetype": "text/x-python",
   "name": "python",
   "nbconvert_exporter": "python",
   "pygments_lexer": "ipython3",
   "version": "3.10.12"
  }
 },
 "nbformat": 4,
 "nbformat_minor": 5
}
